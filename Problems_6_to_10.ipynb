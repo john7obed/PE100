{
 "cells": [
  {
   "cell_type": "markdown",
   "metadata": {},
   "source": [
    "# Project Euler problems 6 to 10\n",
    "## Problem 6\n",
    "The sum of the squares of the first ten natural numbers is,\n",
    "\n",
    "1<sup>2</sup>+2<sup>2</sup>+...+10<sup>2</sup>=385\n",
    "The square of the sum of the first ten natural numbers is,\n",
    "\n",
    "(1+2+...+10)<sup>2</sup>=552=3025\n",
    "Hence the difference between the sum of the squares of the first ten natural numbers and the square of the sum is 3025−385=2640.\n",
    "\n",
    "Find the difference between the sum of the squares of the first one hundred natural numbers and the square of the sum."
   ]
  },
  {
   "cell_type": "code",
   "execution_count": 1,
   "metadata": {},
   "outputs": [
    {
     "name": "stdout",
     "output_type": "stream",
     "text": [
      "Result: 25164150\n",
      "Time taken: 0:00:00.000649\n"
     ]
    }
   ],
   "source": [
    "# Attempt 1\n",
    "from datetime import datetime\n",
    "\n",
    "start = datetime.now()\n",
    "\n",
    "n = 100\n",
    "result = 0\n",
    "\n",
    "sum_of_squares = 0\n",
    "for i in range(1, n + 1):\n",
    "    sum_of_squares += i * i\n",
    "\n",
    "square_of_sum = (n * (n + 1)) // 2\n",
    "\n",
    "square_of_sum *= square_of_sum\n",
    "\n",
    "result = square_of_sum - sum_of_squares\n",
    "        \n",
    "print('Result: {}'.format(result))        \n",
    "print('Time taken: {}'.format(datetime.now() - start))"
   ]
  },
  {
   "cell_type": "markdown",
   "metadata": {},
   "source": [
    "## Problem 7\n",
    "\n",
    "\n",
    "By listing the first six prime numbers: 2, 3, 5, 7, 11, and 13, we can see that the 6th prime is 13.\n",
    "\n",
    "What is the 10 001st prime number?\n"
   ]
  },
  {
   "cell_type": "code",
   "execution_count": 23,
   "metadata": {},
   "outputs": [
    {
     "name": "stdout",
     "output_type": "stream",
     "text": [
      "Result: 104743\n",
      "Time taken: 0:00:00.382492\n"
     ]
    }
   ],
   "source": [
    "# Attempt 1\n",
    "from datetime import datetime\n",
    "\n",
    "start = datetime.now()\n",
    "\n",
    "n = 10001\n",
    "result = 1\n",
    "\n",
    "def isPrime(number):\n",
    "    if number == 2:\n",
    "        return True\n",
    "    if number % 2 == 0:\n",
    "        return False\n",
    "    t_number = number // 2 \n",
    "    i = 3\n",
    "    while i <= t_number:\n",
    "        if number % i == 0:\n",
    "            return False\n",
    "        t_number = number // i\n",
    "        i += 1\n",
    "    return True\n",
    "\n",
    "ct = 0\n",
    "while True:\n",
    "    result += 1\n",
    "    if isPrime(result):\n",
    "        ct += 1\n",
    "    if ct == n:\n",
    "        break\n",
    "    \n",
    "print('Result: {}'.format(result))        \n",
    "print('Time taken: {}'.format(datetime.now() - start))"
   ]
  },
  {
   "cell_type": "markdown",
   "metadata": {},
   "source": [
    "## Problem 8\n",
    "The four adjacent digits in the 1000-digit number that have the greatest product are 9 × 9 × 8 × 9 = 5832.\n",
    "\n",
    "73167176531330624919225119674426574742355349194934\n",
    "96983520312774506326239578318016984801869478851843\n",
    "85861560789112949495459501737958331952853208805511\n",
    "12540698747158523863050715693290963295227443043557\n",
    "66896648950445244523161731856403098711121722383113\n",
    "62229893423380308135336276614282806444486645238749\n",
    "30358907296290491560440772390713810515859307960866\n",
    "70172427121883998797908792274921901699720888093776\n",
    "65727333001053367881220235421809751254540594752243\n",
    "52584907711670556013604839586446706324415722155397\n",
    "53697817977846174064955149290862569321978468622482\n",
    "83972241375657056057490261407972968652414535100474\n",
    "82166370484403199890008895243450658541227588666881\n",
    "16427171479924442928230863465674813919123162824586\n",
    "17866458359124566529476545682848912883142607690042\n",
    "24219022671055626321111109370544217506941658960408\n",
    "07198403850962455444362981230987879927244284909188\n",
    "84580156166097919133875499200524063689912560717606\n",
    "05886116467109405077541002256983155200055935729725\n",
    "71636269561882670428252483600823257530420752963450\n",
    "\n",
    "Find the thirteen adjacent digits in the 1000-digit number that have the greatest product. What is the value of this product?"
   ]
  },
  {
   "cell_type": "code",
   "execution_count": 3,
   "metadata": {},
   "outputs": [
    {
     "name": "stdout",
     "output_type": "stream",
     "text": [
      "Result: 23514624000\n",
      "Time taken: 0:00:00.015371\n"
     ]
    }
   ],
   "source": [
    "# Attempt 1\n",
    "from datetime import datetime\n",
    "\n",
    "start = datetime.now()\n",
    "number = \"7316717653133062491922511967442657474235534919493496983520312774506326239578318016984801869478851843858615607891129494954595017379583319528532088055111254069874715852386305071569329096329522744304355766896648950445244523161731856403098711121722383113622298934233803081353362766142828064444866452387493035890729629049156044077239071381051585930796086670172427121883998797908792274921901699720888093776657273330010533678812202354218097512545405947522435258490771167055601360483958644670632441572215539753697817977846174064955149290862569321978468622482839722413756570560574902614079729686524145351004748216637048440319989000889524345065854122758866688116427171479924442928230863465674813919123162824586178664583591245665294765456828489128831426076900422421902267105562632111110937054421750694165896040807198403850962455444362981230987879927244284909188845801561660979191338754992005240636899125607176060588611646710940507754100225698315520005593572972571636269561882670428252483600823257530420752963450\"\n",
    "\n",
    "n = 13\n",
    "result = 1\n",
    "length = len(number)\n",
    "\n",
    "i = 0\n",
    "while i < length - n:\n",
    "    product = 1\n",
    "    for j in range(n):\n",
    "        product *= int(number[i + j])\n",
    "    if product > result:\n",
    "        result = product\n",
    "    i += 1\n",
    "\n",
    "        \n",
    "print('Result: {}'.format(result))        \n",
    "print('Time taken: {}'.format(datetime.now() - start))"
   ]
  },
  {
   "cell_type": "code",
   "execution_count": 4,
   "metadata": {},
   "outputs": [
    {
     "name": "stdout",
     "output_type": "stream",
     "text": [
      "Result: 23514624000\n",
      "Time taken: 0:00:00.005878\n"
     ]
    }
   ],
   "source": [
    "# Attempt 2\n",
    "from datetime import datetime\n",
    "\n",
    "start = datetime.now()\n",
    "number = \"7316717653133062491922511967442657474235534919493496983520312774506326239578318016984801869478851843858615607891129494954595017379583319528532088055111254069874715852386305071569329096329522744304355766896648950445244523161731856403098711121722383113622298934233803081353362766142828064444866452387493035890729629049156044077239071381051585930796086670172427121883998797908792274921901699720888093776657273330010533678812202354218097512545405947522435258490771167055601360483958644670632441572215539753697817977846174064955149290862569321978468622482839722413756570560574902614079729686524145351004748216637048440319989000889524345065854122758866688116427171479924442928230863465674813919123162824586178664583591245665294765456828489128831426076900422421902267105562632111110937054421750694165896040807198403850962455444362981230987879927244284909188845801561660979191338754992005240636899125607176060588611646710940507754100225698315520005593572972571636269561882670428252483600823257530420752963450\"\n",
    "\n",
    "n = 13\n",
    "result = 1\n",
    "length = len(number)\n",
    "\n",
    "i = 0\n",
    "while i < length - n:\n",
    "    product = 1\n",
    "    for j in range(n):\n",
    "        nint = int(number[i + j])\n",
    "        product *= nint\n",
    "        if nint == 0:\n",
    "            i = i + j\n",
    "            break\n",
    "    if product > result:\n",
    "        result = product\n",
    "    i += 1\n",
    "\n",
    "        \n",
    "print('Result: {}'.format(result))        \n",
    "print('Time taken: {}'.format(datetime.now() - start))"
   ]
  },
  {
   "cell_type": "markdown",
   "metadata": {},
   "source": [
    "## Problem 9\n",
    "A Pythagorean triplet is a set of three natural numbers, a < b < c, for which,\n",
    "\n",
    "a2 + b2 = c2\n",
    "For example, 32 + 42 = 9 + 16 = 25 = 52.\n",
    "\n",
    "There exists exactly one Pythagorean triplet for which a + b + c = 1000.\n",
    "Find the product abc."
   ]
  },
  {
   "cell_type": "code",
   "execution_count": 5,
   "metadata": {},
   "outputs": [
    {
     "name": "stdout",
     "output_type": "stream",
     "text": [
      "200 375 425 31875000\n",
      "Result: 31875000\n",
      "Time taken: 0:00:00.178972\n"
     ]
    }
   ],
   "source": [
    "# Attempt 1\n",
    "from datetime import datetime\n",
    "start = datetime.now()\n",
    "\n",
    "n = 1000\n",
    "result = 0\n",
    "\n",
    "def pythag_prod():\n",
    "    for a in range(1,1000):\n",
    "        for b in range(a + 1, 1000):\n",
    "            c = 1000 - a - b\n",
    "            if (a ** 2) + (b ** 2) == (c ** 2):\n",
    "                print(a,b,c, a * b * c)\n",
    "                return a * b * c\n",
    "                \n",
    "    \n",
    "result = pythag_prod()\n",
    "print('Result: {}'.format(result))        \n",
    "print('Time taken: {}'.format(datetime.now() - start))"
   ]
  },
  {
   "cell_type": "markdown",
   "metadata": {},
   "source": [
    "## Problem 10\n",
    "The sum of the primes below 10 is 2 + 3 + 5 + 7 = 17.\n",
    "\n",
    "Find the sum of all the primes below two million."
   ]
  },
  {
   "cell_type": "code",
   "execution_count": 43,
   "metadata": {},
   "outputs": [
    {
     "name": "stdout",
     "output_type": "stream",
     "text": [
      "Result: 142913828922\n",
      "Time taken: 0:00:05.916650\n"
     ]
    }
   ],
   "source": [
    "# Attempt 1\n",
    "from datetime import datetime\n",
    "import math\n",
    "\n",
    "start = datetime.now()\n",
    "\n",
    "n = 2000000\n",
    "result = 0\n",
    "\n",
    "def isPrime(number):\n",
    "    if number < 2:\n",
    "        return False\n",
    "    if number == 2 or number == 3:\n",
    "        return True\n",
    "    if number % 2 == 0 or number % 3 == 0:\n",
    "        return False\n",
    "    i = 5\n",
    "    factor = math.floor(math.sqrt(number))\n",
    "    while i <= factor:\n",
    "        if (number % i == 0) or (number % (i + 2) == 0):\n",
    "            return False\n",
    "        i += 6\n",
    "    return True\n",
    "\n",
    "number = 2\n",
    "while number < n:\n",
    "    if isPrime(number):\n",
    "        result += number\n",
    "    number += 1\n",
    "\n",
    "print('Result: {}'.format(result))        \n",
    "print('Time taken: {}'.format(datetime.now() - start))"
   ]
  }
 ],
 "metadata": {
  "kernelspec": {
   "display_name": "Python [conda env:tf13] *",
   "language": "python",
   "name": "conda-env-tf13-py"
  },
  "language_info": {
   "codemirror_mode": {
    "name": "ipython",
    "version": 3
   },
   "file_extension": ".py",
   "mimetype": "text/x-python",
   "name": "python",
   "nbconvert_exporter": "python",
   "pygments_lexer": "ipython3",
   "version": "3.7.3"
  }
 },
 "nbformat": 4,
 "nbformat_minor": 2
}
