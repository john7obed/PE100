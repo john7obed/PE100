{
 "cells": [
  {
   "cell_type": "markdown",
   "metadata": {},
   "source": [
    "# Project Euler problems 1 to 10"
   ]
  },
  {
   "cell_type": "markdown",
   "metadata": {},
   "source": [
    "## Problem 1\n",
    "\n",
    "If we list all the natural numbers below 10 that are multiples of 3 or 5, we get 3, 5, 6 and 9. The sum of these multiples is 23.\n",
    "\n",
    "Find the sum of all the multiples of 3 or 5 below 1000.\n"
   ]
  },
  {
   "cell_type": "code",
   "execution_count": 19,
   "metadata": {},
   "outputs": [
    {
     "name": "stdout",
     "output_type": "stream",
     "text": [
      "Result: 23333331666668\n",
      "Time taken: 0:00:01.827208\n"
     ]
    }
   ],
   "source": [
    "# Attempt 1\n",
    "from datetime import datetime\n",
    "start = datetime.now()\n",
    "\n",
    "n = 10000000\n",
    "sum = 0\n",
    "for number in range(n):\n",
    "    if (number % 3 == 0) or (number % 5 == 0):\n",
    "        sum += number\n",
    "\n",
    "print('Result: {}'.format(sum))        \n",
    "print('Time taken: {}'.format(datetime.now() - start))"
   ]
  },
  {
   "cell_type": "code",
   "execution_count": 27,
   "metadata": {},
   "outputs": [
    {
     "name": "stdout",
     "output_type": "stream",
     "text": [
      "Result: 23333331666668.0\n",
      "Time taken: 0:00:00.000662\n"
     ]
    }
   ],
   "source": [
    "# Attempt 2 \n",
    "# Solve using sum of n numbers formula\n",
    "from datetime import datetime\n",
    "\n",
    "def sum_of_n(n):\n",
    "    return (n * (n + 1) / 2)\n",
    "\n",
    "start = datetime.now()\n",
    "\n",
    "n = 10000000\n",
    "n -= 1\n",
    "\n",
    "sum_of_3 = 3 * sum_of_n(n // 3)\n",
    "sum_of_5 = 5 * sum_of_n(n // 5)\n",
    "sum_of_15 = 15 * sum_of_n(n // 15)\n",
    "sum = sum_of_3 + sum_of_5 - sum_of_15\n",
    "\n",
    "print('Result: {}'.format(sum))        \n",
    "print('Time taken: {}'.format(datetime.now() - start))"
   ]
  }
 ],
 "metadata": {
  "kernelspec": {
   "display_name": "Python [conda env:tf13] *",
   "language": "python",
   "name": "conda-env-tf13-py"
  },
  "language_info": {
   "codemirror_mode": {
    "name": "ipython",
    "version": 3
   },
   "file_extension": ".py",
   "mimetype": "text/x-python",
   "name": "python",
   "nbconvert_exporter": "python",
   "pygments_lexer": "ipython3",
   "version": "3.7.3"
  }
 },
 "nbformat": 4,
 "nbformat_minor": 2
}
